{
 "cells": [
  {
   "cell_type": "code",
   "execution_count": null,
   "id": "4a509a2e-c32b-42a7-ac97-bcf89d24f9a2",
   "metadata": {},
   "outputs": [],
   "source": [
    "#instalação das libs\n",
    "!pip install selenium pandas"
   ]
  },
  {
   "cell_type": "code",
   "execution_count": null,
   "id": "62ff4197-c6a7-4a5d-a44e-1fa605f0d08c",
   "metadata": {},
   "outputs": [],
   "source": [
    "#Importação das libs\n",
    "import pandas as pd\n",
    "from selenium import webdriver\n",
    "from selenium.webdriver.chrome.service import Service\n",
    "from selenium.webdriver.common.by import By\n",
    "from selenium.webdriver.support.ui import Select\n",
    "from selenium.webdriver.common.action_chains import ActionChains\n",
    "from selenium.webdriver.support.ui import WebDriverWait\n",
    "from selenium.webdriver.support import expected_conditions as EC\n",
    "from selenium.webdriver.common.keys import Keys\n",
    "import time"
   ]
  },
  {
   "cell_type": "code",
   "execution_count": null,
   "id": "93e0903c-12ea-4d56-b184-52c8d4355b4c",
   "metadata": {},
   "outputs": [],
   "source": [
    "#Inicializando a instância do Google Chrome\n",
    "service = Service()\n",
    "options = webdriver.ChromeOptions()\n",
    "driver = webdriver.Chrome(service=service, options=options)"
   ]
  },
  {
   "cell_type": "code",
   "execution_count": null,
   "id": "75076a61-eb58-454a-951c-1682d5d39091",
   "metadata": {},
   "outputs": [],
   "source": [
    "#Define o url\n",
    "url = 'https://jurisprudencia.tst.jus.br'\n",
    "driver.get(url)"
   ]
  },
  {
   "cell_type": "code",
   "execution_count": null,
   "id": "4dc2d922-9826-4be6-837d-5e93ee746af1",
   "metadata": {},
   "outputs": [],
   "source": [
    "#Insere o termo a ser pesquisado no campo 'Contendo as palavras (e)' E clica ENTER para pesquisar\n",
    "termo_pesquisa = input('Digite o termo a ser pesquisado: ')\n",
    "campo_pesquisa = driver.find_element(By.XPATH, '//*[@id=\"campoTxtOperadorE\"]')\n",
    "campo_pesquisa.send_keys(termo_pesquisa)\n",
    "campo_pesquisa.send_keys(Keys.ENTER)"
   ]
  },
  {
   "cell_type": "code",
   "execution_count": null,
   "id": "4eb91487-5c2b-4962-891b-5708241d4280",
   "metadata": {},
   "outputs": [],
   "source": [
    "#Altera a visualização para 100 resultados por página\n",
    "dropdown_button = WebDriverWait(driver, 10).until(\n",
    "    EC.visibility_of_element_located((By.XPATH, '//*[@id=\"main\"]/header/div[2]/div[1]/div[3]/div/div/div[2]/div/div')))\n",
    "    \n",
    "dropdown_button.click()\n",
    "\n",
    "# Espera que a opção 100 esteja presente e visível\n",
    "option_to_select = WebDriverWait(driver, 10).until(\n",
    "    EC.visibility_of_element_located((By.XPATH, '//*[@id=\"menu-\"]/div[2]/ul/li[5]'))\n",
    ")\n",
    "\n",
    "# Clica na opção desejada\n",
    "option_to_select.click()"
   ]
  },
  {
   "cell_type": "code",
   "execution_count": null,
   "id": "5de7bacb-63c7-4968-b51b-c58e2cb11041",
   "metadata": {
    "scrolled": true
   },
   "outputs": [],
   "source": [
    "#Extraindo os campos necessarios"
   ]
  },
  {
   "cell_type": "code",
   "execution_count": null,
   "id": "a70b0ae2-7e0f-484a-999c-b7ce6cc1085c",
   "metadata": {},
   "outputs": [],
   "source": [
    "#Extrai numeros dos processos\n",
    "lista_processos = []\n",
    "\n",
    "processos = driver.find_elements(By.XPATH, '//a[contains(@href, \"#\")]')\n",
    "\n",
    "for processo in processos:\n",
    "    text = processo.text\n",
    "    # Adiciona o texto à lista apenas se não for igual aos termos especificados\n",
    "    if text not in ['Ementa para citação', 'Dispositivo','Justificativa de Voto Vencido', 'Voto Convergente']:\n",
    "        lista_processos.append(text)\n",
    "        \n",
    "len(lista_processos)"
   ]
  },
  {
   "cell_type": "code",
   "execution_count": null,
   "id": "35dfc84b-07ed-4499-90d7-a86176243dc6",
   "metadata": {},
   "outputs": [],
   "source": [
    "#Extrai as turmas que julgaram o documento\n",
    "lista_turmas = []\n",
    "\n",
    "# Localiza todos os elementos <div> que contenham o texto \"Orgão Judicante:\"\n",
    "turmas = driver.find_elements(By.XPATH, '//div[contains(text(), \"Orgão Judicante:\")]')\n",
    "\n",
    "# Itera sobre os elementos encontrados e extrai o texto após \"Orgão Judicante:\"\n",
    "for turma in turmas:\n",
    "    # Obtém o texto do elemento\n",
    "    text = turma.text\n",
    "    # Extrai o texto após \"Orgão Judicante:\" e apenas na lista de turmas\n",
    "    orgao_judicante = text.split('Orgão Judicante:')[1].strip()\n",
    "    lista_turmas.append(orgao_judicante)\n",
    "    # Exibe o resultado\n",
    "\n",
    "len(lista_turmas)"
   ]
  },
  {
   "cell_type": "code",
   "execution_count": null,
   "id": "3c098933-a76a-4454-ae46-dc86add2b55b",
   "metadata": {},
   "outputs": [],
   "source": [
    "#Extrai os nomes do relatores dos documentos\n",
    "lista_relator = []\n",
    "\n",
    "# Localiza todos os elementos <div> que contenham o texto \"Relator\"\n",
    "relatores = driver.find_elements(By.XPATH, '//div[contains(text(), \"Relator\")]')\n",
    "\n",
    "# Itera sobre os elementos encontrados e extrai o texto após \":\"\n",
    "for relator in relatores:\n",
    "    # Obtém o texto do elemento\n",
    "    text = relator.text\n",
    "    # Extrai o texto após \":\" e apensa na lista de relatores\n",
    "    relator_ext = text.split(':')[1].strip()\n",
    "    lista_relator.append(relator_ext)\n",
    "\n",
    "len(lista_relator)"
   ]
  },
  {
   "cell_type": "code",
   "execution_count": null,
   "id": "b2e2edbf-30cc-4901-93ff-7074a9c910e9",
   "metadata": {},
   "outputs": [],
   "source": [
    "#Extrai as datas de publicação dos documentos\n",
    "lista_datapub = []\n",
    "\n",
    "# Localiza todos os elementos <div> que contenham o texto \"Publicação\"\n",
    "dataspub = driver.find_elements(By.XPATH, '//div[contains(text(), \"Publicação\")]')\n",
    "\n",
    "# Itera sobre os elementos encontrados e extrai o texto após \":\"\n",
    "for data in dataspub:\n",
    "    # Obtém o texto do elemento\n",
    "    text = data.text\n",
    "    # Extrai o texto após \":\" e apensa na lista de datas de publicação\n",
    "    datapub_ext = text.split(':')[1].strip()\n",
    "    lista_datapub.append(datapub_ext)\n",
    "    # Exibe o resultado\n",
    "\n",
    "len(lista_datapub)"
   ]
  },
  {
   "cell_type": "code",
   "execution_count": null,
   "id": "d84b42f7-4f8e-4576-bc8d-8bb772ecb0db",
   "metadata": {},
   "outputs": [],
   "source": [
    "#Extrai o tipo de documento \n",
    "lista_tipos = []\n",
    "\n",
    "# Localiza todos os elementos <div> que contenham o texto \"Tipo de Documento:\"\n",
    "tipos = driver.find_elements(By.XPATH, '//div[contains(text(), \"Tipo de Documento: \")]')\n",
    "\n",
    "# Itera sobre os elementos encontrados e extrai o texto após \":\"\n",
    "for tipo in tipos:\n",
    "    # Obtém o texto do elemento\n",
    "    text = tipo.text\n",
    "    # Extrai o texto após \":\" e apensa na lista de tipos\n",
    "    tipo_ext = text.split(':')[1].strip()\n",
    "    lista_tipos.append(tipo_ext)\n",
    "    # Exibe o resultado\n",
    "\n",
    "len(lista_tipos)"
   ]
  },
  {
   "cell_type": "code",
   "execution_count": null,
   "id": "914864f2-4cf7-484c-aa3b-b9ae6c818d34",
   "metadata": {},
   "outputs": [],
   "source": [
    "#Extrai as ementas dos documentos\n",
    "lista_ementas = []\n",
    "\n",
    "# Localiza todos os elementos CLASS_NAME iguais a \"autoHeight\"\n",
    "ementas = driver.find_elements(By.CLASS_NAME, 'autoHeight')\n",
    "\n",
    "# Itera sobre os elementos encontrados\n",
    "for ementa in ementas:\n",
    "    # Obtém o texto do elemento e apensa na lista de ementas\n",
    "    text = ementa.text\n",
    "    lista_ementas.append(text)\n",
    "\n",
    "del lista_ementas[1] #deleta o elemento que foi identificado como estranho\n",
    "len(lista_ementas)"
   ]
  },
  {
   "cell_type": "code",
   "execution_count": null,
   "id": "ebc57168-9ce1-4a19-9b19-ef9a30a1ff8c",
   "metadata": {},
   "outputs": [],
   "source": [
    "#Extrai o inteiro teor dos documentos encontrados abertos em nova guia\n",
    "lista_teor = []\n",
    "\n",
    "# Localiza todos os elementos que abrem em nova guia\n",
    "click_teor = driver.find_elements(By.CLASS_NAME, 'open_in_new_window')\n",
    "\n",
    "# Itera sobre os elementos encontrados e clica neles para então extrair o texto da nova guia\n",
    "for teor in click_teor:\n",
    "    # Abre o link em uma nova guia\n",
    "    ActionChains(driver).key_down(Keys.CONTROL).click(teor).key_up(Keys.CONTROL).perform()\n",
    "\n",
    "    # Muda para a nova guia aberta\n",
    "    driver.switch_to.window(driver.window_handles[-1])\n",
    "\n",
    "    # Aguarda a nova página carregar completamente\n",
    "    WebDriverWait(driver, 10).until(EC.presence_of_element_located((By.TAG_NAME, 'html')))\n",
    "\n",
    "    # Extrai o texto da nova página\n",
    "    text = driver.find_element(By.TAG_NAME, 'html').text\n",
    "    lista_teor.append(text)\n",
    "\n",
    "    # Fecha a nova guia e retorna para a guia original\n",
    "    driver.close()\n",
    "    driver.switch_to.window(driver.window_handles[0])\n",
    "\n",
    "len (lista_teor)"
   ]
  },
  {
   "cell_type": "code",
   "execution_count": null,
   "id": "506108d4-507f-4078-9fe6-cca1fb460767",
   "metadata": {},
   "outputs": [],
   "source": [
    "#Fecha o navegador \n",
    "driver.quit()"
   ]
  },
  {
   "cell_type": "code",
   "execution_count": null,
   "id": "e92191a8-c926-45eb-b410-14159ef7d14a",
   "metadata": {},
   "outputs": [],
   "source": [
    "#Converte os dados extraídos em DataFrame\n",
    "dictDF = {'Processo':lista_processos,\n",
    "          'Turma': lista_turmas,\n",
    "         'Relator':lista_relator,\n",
    "         'Data de Publicação': lista_datapub,\n",
    "         'Tipo de Decisão': lista_tipos,\n",
    "         'Ementa':lista_ementas,\n",
    "         'Inteiro Teor':lista_teor}\n",
    "df = pd.DataFrame(dictDF)"
   ]
  },
  {
   "cell_type": "code",
   "execution_count": null,
   "id": "97ca19d1-7823-41d3-81fb-6626d27a6e25",
   "metadata": {},
   "outputs": [],
   "source": [
    "#Salva o data frame em um arquivo excel\n",
    "nome_do_arquivo = input('Como deseja nomear o arquivo? ')\n",
    "df.to_excel(nome_do_arquivo)"
   ]
  }
 ],
 "metadata": {
  "kernelspec": {
   "display_name": "Python 3 (ipykernel)",
   "language": "python",
   "name": "python3"
  },
  "language_info": {
   "codemirror_mode": {
    "name": "ipython",
    "version": 3
   },
   "file_extension": ".py",
   "mimetype": "text/x-python",
   "name": "python",
   "nbconvert_exporter": "python",
   "pygments_lexer": "ipython3",
   "version": "3.11.7"
  }
 },
 "nbformat": 4,
 "nbformat_minor": 5
}
